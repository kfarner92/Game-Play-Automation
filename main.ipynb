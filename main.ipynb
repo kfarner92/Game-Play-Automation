{
 "cells": [
  {
   "source": [
    "#### Notes\n",
    "- pyautogui treats external monitors as additions to the screen size\n",
    "- during developement I use an app that shows my current cursor cooridinates \n",
    "- Game is played through an external client that adds features used in the bot scripts"
   ],
   "cell_type": "markdown",
   "metadata": {}
  },
  {
   "source": [
    "load dependencies"
   ],
   "cell_type": "markdown",
   "metadata": {}
  },
  {
   "cell_type": "code",
   "execution_count": 1,
   "metadata": {},
   "outputs": [],
   "source": [
    "import pyautogui as pag\n",
    "import numpy as np\n",
    "import cv2\n",
    "import math\n",
    "from random import randint, uArchniform\n",
    "import sys\n",
    "import time\n",
    "import os\n"
   ]
  },
  {
   "source": [
    "configure settings for display and variables\n"
   ],
   "cell_type": "markdown",
   "metadata": {}
  },
  {
   "cell_type": "code",
   "execution_count": 2,
   "metadata": {},
   "outputs": [
    {
     "output_type": "stream",
     "name": "stdout",
     "text": [
      "Size(width=1440, height=900)\nPoint(x=2334, y=286)\n"
     ]
    }
   ],
   "source": [
    "pag.PAUSE = .1\n",
    "pag.FAILSAFE = True\n",
    "threshold_high = .80\n",
    "threshold_low = .30\n",
    "threshold_mid = .60\n",
    "r_full =(5*2),(50*2),(960*2),(720*2)\n",
    "r_top_left = (5*2),(30*2),(145*2),(130*2)\n",
    "r_last_inventory = (905*2),(690*2),(38*2),(80*2)\n",
    "##Dell: Client size 760 x 500 \n",
    "dell_top_left = ((0),(50),(1000),(680))\n",
    "dell_inventory = ((530),(435),(250),(335))\n",
    "dell_minimap = (610,55,235,157)\n",
    "print(pag.size())\n",
    "print(pag.position())"
   ]
  },
  {
   "source": [
    "#### Classes and Functions"
   ],
   "cell_type": "markdown",
   "metadata": {}
  },
  {
   "cell_type": "code",
   "execution_count": 46,
   "metadata": {},
   "outputs": [],
   "source": [
    "class Bot(object):\n",
    "    def __init__(self):\n",
    "        pass\n",
    "    def image_match(template,region,threshold):\n",
    "        pag.screenshot('../images/screenshot.png', region=region)\n",
    "        screen = cv2.imread('../images/screenshot.png')\n",
    "        template = cv2.imread('../images/' + template +'.png')\n",
    "        correlation = cv2.matchTemplate(screen, template, cv2.TM_CCOEFF_NORMED)\n",
    "        threshold = threshold\n",
    "        loc = np.where(correlation >= threshold)\n",
    "        \n",
    "        if len(loc[0]) > 0:\n",
    "            print('Match ' + str(correlation[0][0]))\n",
    "            match = 'yes'\n",
    "            return \n",
    "        else:\n",
    "            print('No Match ' + str(correlation[0][0]))\n",
    "            match = 'no'\n",
    "            return\n"
   ]
  },
  {
   "cell_type": "code",
   "execution_count": 50,
   "metadata": {},
   "outputs": [
    {
     "output_type": "stream",
     "name": "stdout",
     "text": [
      "No Match -0.025452914\n"
     ]
    }
   ],
   "source": [
    "Bot.image_match('cow',r_full,threshold_high)"
   ]
  },
  {
   "cell_type": "code",
   "execution_count": null,
   "metadata": {},
   "outputs": [],
   "source": []
  }
 ],
 "metadata": {
  "kernelspec": {
   "display_name": "Python 3",
   "language": "python",
   "name": "python3"
  },
  "language_info": {
   "codemirror_mode": {
    "name": "ipython",
    "version": 3
   },
   "file_extension": ".py",
   "mimetype": "text/x-python",
   "name": "python",
   "nbconvert_exporter": "python",
   "pygments_lexer": "ipython3",
   "version": "3.7.4-final"
  }
 },
 "nbformat": 4,
 "nbformat_minor": 2
}